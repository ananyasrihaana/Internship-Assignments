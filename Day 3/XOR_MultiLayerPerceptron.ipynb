{
  "nbformat": 4,
  "nbformat_minor": 0,
  "metadata": {
    "colab": {
      "provenance": []
    },
    "kernelspec": {
      "name": "python3",
      "display_name": "Python 3"
    },
    "language_info": {
      "name": "python"
    }
  },
  "cells": [
    {
      "cell_type": "markdown",
      "source": [
        "Import Libraries and Dataset"
      ],
      "metadata": {
        "id": "a2TQborq3JuX"
      }
    },
    {
      "cell_type": "code",
      "source": [
        "import numpy as np\n",
        "\n",
        "# XOR input and output\n",
        "X = np.array([\n",
        "    [0, 0],\n",
        "    [0, 1],\n",
        "    [1, 0],\n",
        "    [1, 1]\n",
        "])\n",
        "y = np.array([[0], [1], [1], [0]])\n"
      ],
      "metadata": {
        "id": "hy4QU3_U3K2w"
      },
      "execution_count": 4,
      "outputs": []
    },
    {
      "cell_type": "markdown",
      "source": [
        "Activation Functions"
      ],
      "metadata": {
        "id": "CC30r68s3Q4t"
      }
    },
    {
      "cell_type": "code",
      "source": [
        "def sigmoid(x):\n",
        "    return 1 / (1 + np.exp(-x))\n",
        "\n",
        "def sigmoid_deriv(x):\n",
        "    return x * (1 - x)\n"
      ],
      "metadata": {
        "id": "skHHEbHE3Tbd"
      },
      "execution_count": 5,
      "outputs": []
    },
    {
      "cell_type": "markdown",
      "source": [
        "Initialize Network Parameters"
      ],
      "metadata": {
        "id": "5kPmFtyE3Wdu"
      }
    },
    {
      "cell_type": "code",
      "source": [
        "# Set random seed for reproducibility\n",
        "np.random.seed(0)\n",
        "\n",
        "# Define sizes\n",
        "input_size = 2\n",
        "hidden_size = 2\n",
        "output_size = 1\n",
        "lr = 0.1  # Learning rate\n",
        "\n",
        "# Randomly initialize weights and biases\n",
        "W1 = np.random.randn(input_size, hidden_size)\n",
        "b1 = np.zeros((1, hidden_size))\n",
        "W2 = np.random.randn(hidden_size, output_size)\n",
        "b2 = np.zeros((1, output_size))\n"
      ],
      "metadata": {
        "id": "ctwN9a9Y3ZsP"
      },
      "execution_count": 6,
      "outputs": []
    },
    {
      "cell_type": "markdown",
      "source": [
        "Training Loop"
      ],
      "metadata": {
        "id": "dYNmjKAu3cDT"
      }
    },
    {
      "cell_type": "code",
      "source": [
        "# Train the network\n",
        "for epoch in range(10000):\n",
        "    # Forward pass\n",
        "    z1 = np.dot(X, W1) + b1\n",
        "    a1 = sigmoid(z1)\n",
        "    z2 = np.dot(a1, W2) + b2\n",
        "    a2 = sigmoid(z2)\n",
        "\n",
        "    # Compute loss\n",
        "    loss = np.mean((y - a2) ** 2)\n",
        "\n",
        "    # Backpropagation\n",
        "    d_a2 = (a2 - y) * sigmoid_deriv(a2)\n",
        "    d_a1 = d_a2.dot(W2.T) * sigmoid_deriv(a1)\n",
        "\n",
        "    # Update weights and biases\n",
        "    W2 -= a1.T.dot(d_a2) * lr\n",
        "    b2 -= np.sum(d_a2, axis=0, keepdims=True) * lr\n",
        "    W1 -= X.T.dot(d_a1) * lr\n",
        "    b1 -= np.sum(d_a1, axis=0, keepdims=True) * lr\n",
        "\n",
        "    # Print loss occasionally\n",
        "    if epoch % 1000 == 0:\n",
        "        print(f\"Epoch {epoch}, Loss: {loss:.4f}\")\n"
      ],
      "metadata": {
        "colab": {
          "base_uri": "https://localhost:8080/"
        },
        "id": "DV2WPpsH3e9v",
        "outputId": "114a6692-b3de-4499-9e46-c194f25be3a0"
      },
      "execution_count": 7,
      "outputs": [
        {
          "output_type": "stream",
          "name": "stdout",
          "text": [
            "Epoch 0, Loss: 0.2696\n",
            "Epoch 1000, Loss: 0.1750\n",
            "Epoch 2000, Loss: 0.1461\n",
            "Epoch 3000, Loss: 0.1368\n",
            "Epoch 4000, Loss: 0.1329\n",
            "Epoch 5000, Loss: 0.1308\n",
            "Epoch 6000, Loss: 0.1296\n",
            "Epoch 7000, Loss: 0.1287\n",
            "Epoch 8000, Loss: 0.1281\n",
            "Epoch 9000, Loss: 0.1277\n"
          ]
        }
      ]
    },
    {
      "cell_type": "markdown",
      "source": [
        "Final Predictions"
      ],
      "metadata": {
        "id": "9Cl0EyFT3ibn"
      }
    },
    {
      "cell_type": "code",
      "source": [
        "print(\"\\nFinal predictions (MLP):\")\n",
        "for xi in X:\n",
        "    hidden = sigmoid(np.dot(xi, W1) + b1)\n",
        "    output = sigmoid(np.dot(hidden, W2) + b2)\n",
        "    print(f\"Input: {xi}, Output: {np.round(output[0], 3)}\")\n"
      ],
      "metadata": {
        "colab": {
          "base_uri": "https://localhost:8080/"
        },
        "id": "31q7sBe33lBg",
        "outputId": "c99e69a9-6828-4e2d-d0ac-907d45d4d50a"
      },
      "execution_count": 8,
      "outputs": [
        {
          "output_type": "stream",
          "name": "stdout",
          "text": [
            "\n",
            "Final predictions (MLP):\n",
            "Input: [0 0], Output: [0.038]\n",
            "Input: [0 1], Output: [0.499]\n",
            "Input: [1 0], Output: [0.952]\n",
            "Input: [1 1], Output: [0.504]\n"
          ]
        }
      ]
    },
    {
      "cell_type": "markdown",
      "source": [
        "Decision Boundary Plot"
      ],
      "metadata": {
        "id": "yjgUsmMN3nJs"
      }
    },
    {
      "cell_type": "code",
      "source": [
        "import matplotlib.pyplot as plt\n",
        "\n",
        "def predict(X_input):\n",
        "    a1 = sigmoid(np.dot(X_input, W1) + b1)\n",
        "    a2 = sigmoid(np.dot(a1, W2) + b2)\n",
        "    return a2 > 0.5\n",
        "\n",
        "def plot_decision_boundary(pred_func):\n",
        "    x_min, x_max = -0.1, 1.1\n",
        "    y_min, y_max = -0.1, 1.1\n",
        "    h = 0.01\n",
        "    xx, yy = np.meshgrid(np.arange(x_min, x_max, h),\n",
        "                         np.arange(y_min, y_max, h))\n",
        "    grid = np.c_[xx.ravel(), yy.ravel()]\n",
        "    Z = pred_func(grid)\n",
        "    Z = Z.reshape(xx.shape)\n",
        "\n",
        "    plt.contourf(xx, yy, Z, cmap=plt.cm.Paired, alpha=0.6)\n",
        "    plt.scatter(X[:, 0], X[:, 1], c=y.ravel(), cmap=plt.cm.Paired, edgecolors='k')\n",
        "    plt.title(\"MLP Decision Boundary for XOR\")\n",
        "    plt.xlabel(\"X1\")\n",
        "    plt.ylabel(\"X2\")\n",
        "    plt.show()\n",
        "\n",
        "plot_decision_boundary(predict)\n"
      ],
      "metadata": {
        "colab": {
          "base_uri": "https://localhost:8080/",
          "height": 472
        },
        "id": "FoPaEYfX3tCC",
        "outputId": "e0298d39-ecd8-4520-bc0b-b8f198c6b5cc"
      },
      "execution_count": 9,
      "outputs": [
        {
          "output_type": "display_data",
          "data": {
            "text/plain": [
              "<Figure size 640x480 with 1 Axes>"
            ],
            "image/png": "[encoded data removed]"
          },
          "metadata": {}
        }
      ]
    }
  ]
}