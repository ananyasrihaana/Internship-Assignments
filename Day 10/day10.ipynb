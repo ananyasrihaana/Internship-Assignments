{
  "nbformat": 4,
  "nbformat_minor": 0,
  "metadata": {
    "colab": {
      "provenance": []
    },
    "kernelspec": {
      "name": "python3",
      "display_name": "Python 3"
    },
    "language_info": {
      "name": "python"
    }
  },
  "cells": [
    {
      "cell_type": "code",
      "source": [
        "\n",
        "!pip install transformers sentencepiece torch gradio -q\n"
      ],
      "metadata": {
        "id": "rZbFxR1zVBz2"
      },
      "execution_count": 6,
      "outputs": []
    },
    {
      "cell_type": "code",
      "source": [
        "\n",
        "from transformers import AutoTokenizer, AutoModelForSeq2SeqLM, pipeline\n",
        "import gradio as gr\n",
        "import torch\n",
        "\n",
        "# Load the NLLB-200 model\n",
        "checkpoint = \"facebook/nllb-200-distilled-600M\"\n",
        "tokenizer = AutoTokenizer.from_pretrained(checkpoint)\n",
        "model = AutoModelForSeq2SeqLM.from_pretrained(checkpoint)\n"
      ],
      "metadata": {
        "id": "aSsgwiHsTMvq"
      },
      "execution_count": 2,
      "outputs": []
    },
    {
      "cell_type": "code",
      "source": [
        "language_map = {\n",
        "    \"English\": \"eng_Latn\",\n",
        "    \"Hindi\": \"hin_Deva\",\n",
        "    \"Sanskrit\": \"san_Deva\",    # ← Sanskrit support\n",
        "    \"Spanish\": \"spa_Latn\",\n",
        "    \"French\": \"fra_Latn\",\n",
        "    \"German\": \"deu_Latn\",\n",
        "    \"Tamil\": \"tam_Taml\",\n",
        "    \"Chinese\": \"zho_Hans\",\n",
        "    \"Japanese\": \"jpn_Jpan\"\n",
        "}\n"
      ],
      "metadata": {
        "id": "OpO0_OWQUgd3"
      },
      "execution_count": 3,
      "outputs": []
    },
    {
      "cell_type": "code",
      "source": [
        "\n",
        "def translate(text, source_lang, target_lang):\n",
        "    src_code = language_map.get(source_lang, source_lang)\n",
        "    tgt_code = language_map.get(target_lang, target_lang)\n",
        "\n",
        "    translator = pipeline(\n",
        "        \"translation\",\n",
        "        model=model,\n",
        "        tokenizer=tokenizer,\n",
        "        src_lang=src_code,\n",
        "        tgt_lang=tgt_code,\n",
        "        max_length=400,\n",
        "        device=0 if torch.cuda.is_available() else -1\n",
        "    )\n",
        "    result = translator(text)\n",
        "    return result[0]['translation_text']\n"
      ],
      "metadata": {
        "id": "rj4kCbiTUtzi"
      },
      "execution_count": 4,
      "outputs": []
    },
    {
      "cell_type": "code",
      "source": [
        "# ✅ STEP 5: Example Test (Manual Translation)\n",
        "text = \"The sun rises in the east.\"\n",
        "source_lang = \"English\"\n",
        "target_lang = \"Sanskrit\"\n",
        "\n",
        "translated = translate(text, source_lang, target_lang)\n",
        "print(f\"Original ({source_lang}): {text}\")\n",
        "print(f\"Translated ({target_lang}): {translated}\")\n"
      ],
      "metadata": {
        "colab": {
          "base_uri": "https://localhost:8080/",
          "height": 0
        },
        "id": "Yljb41_WUwbS",
        "outputId": "8d603f7a-9f9f-4047-c752-6f35226bf282"
      },
      "execution_count": 5,
      "outputs": [
        {
          "output_type": "stream",
          "name": "stderr",
          "text": [
            "Device set to use cpu\n"
          ]
        },
        {
          "output_type": "stream",
          "name": "stdout",
          "text": [
            "Original (English): The sun rises in the east.\n",
            "Translated (Sanskrit): सूर्योदयः पूर्वं भवति।\n"
          ]
        }
      ]
    },
    {
      "cell_type": "code",
      "source": [],
      "metadata": {
        "id": "uF3NzHmTUyZh"
      },
      "execution_count": null,
      "outputs": []
    }
  ]
}